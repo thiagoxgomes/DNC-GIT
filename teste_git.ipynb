{
  "nbformat": 4,
  "nbformat_minor": 0,
  "metadata": {
    "colab": {
      "provenance": [],
      "authorship_tag": "ABX9TyOqxjPGTqwGwQMZvbwFBVV2",
      "include_colab_link": true
    },
    "kernelspec": {
      "name": "python3",
      "display_name": "Python 3"
    },
    "language_info": {
      "name": "python"
    }
  },
  "cells": [
    {
      "cell_type": "markdown",
      "metadata": {
        "id": "view-in-github",
        "colab_type": "text"
      },
      "source": [
        "<a href=\"https://colab.research.google.com/github/thiagoxgomes/DNC-GIT/blob/main/teste_git.ipynb\" target=\"_parent\"><img src=\"https://colab.research.google.com/assets/colab-badge.svg\" alt=\"Open In Colab\"/></a>"
      ]
    },
    {
      "cell_type": "code",
      "execution_count": 22,
      "metadata": {
        "id": "fZgtUWz0FMp0",
        "outputId": "7f0c3b99-babf-45fe-c716-59e47b918a18",
        "colab": {
          "base_uri": "https://localhost:8080/"
        }
      },
      "outputs": [
        {
          "output_type": "stream",
          "name": "stdout",
          "text": [
            "antes:  [1, 2, 3, 4, 5, 6, 7, 8, 9, 10, 11, 12, 13, 14, 15, 16, 17, 18, 19, 20, 21, 22, 23, 24, 25, 26, 27, 28, 29, 30, 31, 32, 33, 34, 35, 36, 37, 38, 39, 40, 41, 42, 43, 44, 45, 46, 47, 48, 49, 50, 51, 52, 53, 54, 55, 56, 57, 58, 59, 60, 61, 62, 63, 64, 65, 66, 67, 68, 69, 70, 71, 72, 73, 74, 75, 76, 77, 78, 79, 80, 81, 82, 83, 84, 85, 86, 87, 88, 89, 90, 91, 92, 93, 94, 95, 96, 97, 98, 99, 0]\n",
            "depois:  [27, 41, 95, 4, 26, 51, 54, 29, 43, 37, 94, 35, 49, 18, 9, 75, 87, 30, 80, 13, 53, 66, 88, 89, 23, 19, 12, 6, 47, 34, 58, 77, 31, 46, 2, 5, 10, 42, 17, 74, 7, 99, 11, 71, 84, 82, 16, 83, 72, 68, 62, 63, 64, 3, 28, 59, 48, 36, 32, 22, 70, 24, 86, 52, 73, 69, 97, 81, 50, 57, 56, 60, 15, 79, 20, 33, 38, 96, 14, 65, 90, 39, 91, 76, 78, 21, 61, 45, 67, 40, 55, 93, 0, 92, 25, 8, 85, 1, 44, 98]\n",
            "apost:  [4, 9, 13, 18, 26, 27, 29, 30, 35, 37, 41, 43, 49, 51, 54, 75, 80, 87, 94, 95]\n",
            "Digite um número: 3\n",
            "Digite um número: 5\n",
            "Digite um número: 8\n",
            "Digite um número: 1\n",
            "Digite um número: 14\n",
            "Digite um número: 16\n",
            "Digite um número: 18\n",
            "Digite um número: 20\n",
            "Digite um número: 31\n",
            "Digite um número: 35\n",
            "Digite um número: 37\n",
            "Digite um número: 39\n",
            "Digite um número: 52\n",
            "Digite um número: 56\n",
            "Digite um número: 59\n",
            "Digite um número: 60\n",
            "Digite um número: 61\n",
            "Digite um número: 65\n",
            "Digite um número: 70\n",
            "Digite um número: 76\n",
            "Resultado:  [1, 3, 5, 8, 14, 16, 18, 20, 31, 35, 37, 39, 52, 56, 59, 60, 61, 65, 70, 76]\n",
            "result line 0:  4\n",
            "result line 1:  4\n",
            "result line 2:  0\n",
            "result line 3:  4\n",
            "result line 4:  0\n",
            "result line 5:  4\n",
            "result line 6:  3\n",
            "result line 7:  1\n",
            "result line 8:  0\n",
            "result line 9:  0\n"
          ]
        }
      ],
      "source": [
        "import numpy as np\n",
        "import IPython.display as display\n",
        "from matplotlib import pyplot as plt\n",
        "import io\n",
        "import base64\n",
        "import random\n",
        "line0 = 0\n",
        "line1 = 0\n",
        "line2 = 0\n",
        "line3 = 0\n",
        "line4 = 0\n",
        "line5 = 0\n",
        "line6 = 0\n",
        "line7 = 0\n",
        "line8 = 0\n",
        "line9 = 0\n",
        "\n",
        "\n",
        "numeros = [1,2,3,4,5,6,7,8,9,10,11,12,13,14,15,16,17,18,19,20,21,22,23,24,25,26,27,28,29,30,31,32,33,34,35,36,37,38,39,40,41,42,43,44,45,46,47,48,49,50,51,52,53,54,55,56,57,58,59,60,61,62,63,64,65,66,67,68,69,70,71,72,73,74,75,76,77,78,79,80,81,82,83,84,85,86,87,88,89,90,91,92,93,94,95,96,97,98,99,00]\n",
        "print(\"antes: \",numeros)\n",
        "random.shuffle(numeros)\n",
        "print(\"depois: \",numeros)\n",
        "print(\"apost: \",sorted(numeros[0:20]))\n",
        "\n",
        "\n",
        "result_lista = []\n",
        "while len(result_lista)+1 <= 20:\n",
        "  result_lista.append(int(input(\"Digite um número: \")))\n",
        "\n",
        "\n",
        "for num in result_lista:\n",
        "      if (num > 0) and (num < 11):\n",
        "        line0 = line0 + 1\n",
        "\n",
        "      if (num > 10) and (num < 21):\n",
        "        line1 = line1 + 1\n",
        "\n",
        "      if (num > 20) and (num < 31):\n",
        "        line2 = line2 + 1\n",
        "\n",
        "      if (num > 30) and (num < 41):\n",
        "        line3 = line3 + 1\n",
        "\n",
        "      if (num > 40) and (num < 51):\n",
        "        line4 = line4 + 1\n",
        "\n",
        "      if (num > 50) and (num < 61):\n",
        "        line5 = line5 + 1\n",
        "\n",
        "      if (num > 60) and (num < 71):\n",
        "        line6 = line6 + 1\n",
        "\n",
        "      if (num > 70) and (num < 81):\n",
        "        line7 = line7 + 1\n",
        "\n",
        "      if (num > 80) and (num < 91):\n",
        "        line8 = line8 + 1\n",
        "\n",
        "      if (num > 90) and (num < 100):\n",
        "        line9 = line9 + 1\n",
        "\n",
        "      if (num == 0):\n",
        "        line9 = line9 + 1\n",
        "\n",
        "print (\"Resultado: \", sorted(result_lista)1)\n",
        "print(\"result line 0: \",line0)\n",
        "print(\"result line 1: \",line1)\n",
        "print(\"result line 2: \",line2)\n",
        "print(\"result line 3: \",line3)\n",
        "print(\"result line 4: \",line4)\n",
        "print(\"result line 5: \",line5)\n",
        "print(\"result line 6: \",line6)\n",
        "print(\"result line 7: \",line7)\n",
        "print(\"result line 8: \",line8)\n",
        "print(\"result line 9: \",line9)\n",
        "\n",
        "\n",
        "\n",
        "\n",
        "\n",
        "\n"
      ]
    }
  ]
}