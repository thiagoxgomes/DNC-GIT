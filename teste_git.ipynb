{
  "nbformat": 4,
  "nbformat_minor": 0,
  "metadata": {
    "colab": {
      "provenance": [],
      "authorship_tag": "ABX9TyMdljEP4UEFhgoogOY9fOmT",
      "include_colab_link": true
    },
    "kernelspec": {
      "name": "python3",
      "display_name": "Python 3"
    },
    "language_info": {
      "name": "python"
    }
  },
  "cells": [
    {
      "cell_type": "markdown",
      "metadata": {
        "id": "view-in-github",
        "colab_type": "text"
      },
      "source": [
        "<a href=\"https://colab.research.google.com/github/thiagoxgomes/DNC-GIT/blob/main/teste_git.ipynb\" target=\"_parent\"><img src=\"https://colab.research.google.com/assets/colab-badge.svg\" alt=\"Open In Colab\"/></a>"
      ]
    },
    {
      "cell_type": "code",
      "execution_count": 23,
      "metadata": {
        "id": "fZgtUWz0FMp0",
        "colab": {
          "base_uri": "https://localhost:8080/",
          "height": 369
        },
        "outputId": "0d66b53f-a811-4db0-eee8-a57544161abe"
      },
      "outputs": [
        {
          "name": "stdout",
          "output_type": "stream",
          "text": [
            "antes:  [1, 2, 3, 4, 5, 6, 7, 8, 9, 10, 11, 12, 13, 14, 15, 16, 17, 18, 19, 20, 21, 22, 23, 24, 25, 26, 27, 28, 29, 30, 31, 32, 33, 34, 35, 36, 37, 38, 39, 40, 41, 42, 43, 44, 45, 46, 47, 48, 49, 50, 51, 52, 53, 54, 55, 56, 57, 58, 59, 60, 61, 62, 63, 64, 65, 66, 67, 68, 69, 70, 71, 72, 73, 74, 75, 76, 77, 78, 79, 80, 81, 82, 83, 84, 85, 86, 87, 88, 89, 90, 91, 92, 93, 94, 95, 96, 97, 98, 99, 0]\n",
            "depois:  [94, 32, 58, 76, 88, 66, 63, 38, 51, 60, 74, 53, 80, 68, 65, 57, 75, 50, 30, 27, 61, 89, 85, 78, 45, 93, 40, 97, 37, 2, 10, 73, 82, 47, 8, 91, 29, 86, 21, 35, 79, 48, 42, 87, 55, 96, 1, 39, 95, 64, 49, 84, 11, 81, 67, 13, 72, 17, 18, 98, 70, 19, 36, 7, 14, 15, 28, 33, 99, 4, 90, 62, 25, 12, 34, 9, 52, 6, 31, 56, 20, 23, 24, 16, 26, 43, 0, 3, 71, 83, 92, 46, 54, 77, 5, 59, 41, 44, 22, 69]\n",
            "apost:  [27, 30, 32, 38, 50, 51, 53, 57, 58, 60, 63, 65, 66, 68, 74, 75, 76, 80, 88, 94]\n",
            "Digite um número: 4\n",
            "Digite um número: 4\n",
            "Digite um número: 3\n",
            "Digite um número: 3\n",
            "Digite um número: \n"
          ]
        },
        {
          "output_type": "error",
          "ename": "ValueError",
          "evalue": "invalid literal for int() with base 10: ''",
          "traceback": [
            "\u001b[0;31m---------------------------------------------------------------------------\u001b[0m",
            "\u001b[0;31mValueError\u001b[0m                                Traceback (most recent call last)",
            "\u001b[0;32m<ipython-input-23-5f96457dd97c>\u001b[0m in \u001b[0;36m<cell line: 28>\u001b[0;34m()\u001b[0m\n\u001b[1;32m     27\u001b[0m \u001b[0mresult_lista\u001b[0m \u001b[0;34m=\u001b[0m \u001b[0;34m[\u001b[0m\u001b[0;34m]\u001b[0m\u001b[0;34m\u001b[0m\u001b[0;34m\u001b[0m\u001b[0m\n\u001b[1;32m     28\u001b[0m \u001b[0;32mwhile\u001b[0m \u001b[0mlen\u001b[0m\u001b[0;34m(\u001b[0m\u001b[0mresult_lista\u001b[0m\u001b[0;34m)\u001b[0m\u001b[0;34m+\u001b[0m\u001b[0;36m1\u001b[0m \u001b[0;34m<=\u001b[0m \u001b[0;36m20\u001b[0m\u001b[0;34m:\u001b[0m\u001b[0;34m\u001b[0m\u001b[0;34m\u001b[0m\u001b[0m\n\u001b[0;32m---> 29\u001b[0;31m   \u001b[0mresult_lista\u001b[0m\u001b[0;34m.\u001b[0m\u001b[0mappend\u001b[0m\u001b[0;34m(\u001b[0m\u001b[0mint\u001b[0m\u001b[0;34m(\u001b[0m\u001b[0minput\u001b[0m\u001b[0;34m(\u001b[0m\u001b[0;34m\"Digite um número: \"\u001b[0m\u001b[0;34m)\u001b[0m\u001b[0;34m)\u001b[0m\u001b[0;34m)\u001b[0m\u001b[0;34m\u001b[0m\u001b[0;34m\u001b[0m\u001b[0m\n\u001b[0m\u001b[1;32m     30\u001b[0m \u001b[0;34m\u001b[0m\u001b[0m\n\u001b[1;32m     31\u001b[0m \u001b[0;34m\u001b[0m\u001b[0m\n",
            "\u001b[0;31mValueError\u001b[0m: invalid literal for int() with base 10: ''"
          ]
        }
      ],
      "source": [
        "import numpy as np\n",
        "import IPython.display as display\n",
        "from matplotlib import pyplot as plt\n",
        "import pandas as pd\n",
        "import io\n",
        "import base64\n",
        "import random\n",
        "line0 = 0\n",
        "line1 = 0\n",
        "line2 = 0\n",
        "line3 = 0\n",
        "line4 = 0\n",
        "line5 = 0\n",
        "line6 = 0\n",
        "line7 = 0\n",
        "line8 = 0\n",
        "line9 = 0\n",
        "\n",
        "\n",
        "numeros = [1,2,3,4,5,6,7,8,9,10,11,12,13,14,15,16,17,18,19,20,21,22,23,24,25,26,27,28,29,30,31,32,33,34,35,36,37,38,39,40,41,42,43,44,45,46,47,48,49,50,51,52,53,54,55,56,57,58,59,60,61,62,63,64,65,66,67,68,69,70,71,72,73,74,75,76,77,78,79,80,81,82,83,84,85,86,87,88,89,90,91,92,93,94,95,96,97,98,99,00]\n",
        "print(\"antes: \",numeros)\n",
        "random.shuffle(numeros)\n",
        "print(\"depois: \",numeros)\n",
        "print(\"apost: \",sorted(numeros[0:20]))\n",
        "\n",
        "\n",
        "#result_lista = []\n",
        "#while len(result_lista)+1 <= 20:\n",
        "#  result_lista.append(int(input(\"Digite um número: \")))\n",
        "\n",
        "all_result = pd.read_csv('data.csv')\n",
        "\n",
        "\n",
        "for num in result_lista:\n",
        "      if (num > 0) and (num < 11):\n",
        "        line0 = line0 + 1\n",
        "\n",
        "      if (num > 10) and (num < 21):\n",
        "        line1 = line1 + 1\n",
        "\n",
        "      if (num > 20) and (num < 31):\n",
        "        line2 = line2 + 1\n",
        "\n",
        "      if (num > 30) and (num < 41):\n",
        "        line3 = line3 + 1\n",
        "\n",
        "      if (num > 40) and (num < 51):\n",
        "        line4 = line4 + 1\n",
        "\n",
        "      if (num > 50) and (num < 61):\n",
        "        line5 = line5 + 1\n",
        "\n",
        "      if (num > 60) and (num < 71):\n",
        "        line6 = line6 + 1\n",
        "\n",
        "      if (num > 70) and (num < 81):\n",
        "        line7 = line7 + 1\n",
        "\n",
        "      if (num > 80) and (num < 91):\n",
        "        line8 = line8 + 1\n",
        "\n",
        "      if (num > 90) and (num < 100):\n",
        "        line9 = line9 + 1\n",
        "\n",
        "      if (num == 0):\n",
        "        line9 = line9 + 1\n",
        "\n",
        "print (\"Resultado: \", sorted(result_lista))\n",
        "print(\"result line 0: \",line0)\n",
        "print(\"result line 1: \",line1)\n",
        "print(\"result line 2: \",line2)\n",
        "print(\"result line 3: \",line3)\n",
        "print(\"result line 4: \",line4)\n",
        "print(\"result line 5: \",line5)\n",
        "print(\"result line 6: \",line6)\n",
        "print(\"result line 7: \",line7)\n",
        "print(\"result line 8: \",line8)\n",
        "print(\"result line 9: \",line9)\n",
        "\n",
        "\n",
        "\n",
        "\n",
        "\n",
        "\n"
      ]
    }
  ]
}